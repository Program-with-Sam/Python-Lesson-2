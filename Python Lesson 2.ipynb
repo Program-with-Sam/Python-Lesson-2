{
 "cells": [
  {
   "cell_type": "code",
   "execution_count": 3,
   "metadata": {},
   "outputs": [],
   "source": [
    "import numpy as np\n",
    "import pandas as pd"
   ]
  },
  {
   "cell_type": "code",
   "execution_count": 4,
   "metadata": {},
   "outputs": [
    {
     "name": "stdout",
     "output_type": "stream",
     "text": [
      "[2 3 5 1 2 7]\n",
      "[[0. 0. 0. 0. 0. 0. 0. 0.]\n",
      " [0. 0. 0. 0. 0. 0. 0. 0.]]\n",
      "[ 0  1  2  3  4  5  6  7  8  9 10 11 12 13 14 15 16 17 18 19 20 21 22 23\n",
      " 24]\n",
      "[25.  25.1 25.2 25.3 25.4 25.5 25.6 25.7 25.8 25.9]\n"
     ]
    }
   ],
   "source": [
    "array1 = np.array([2,3,5,1,2,7])\n",
    "print(array1)\n",
    "array2 = np.zeros((2,8))\n",
    "print(array2)\n",
    "array3 = np.arange(25)\n",
    "print(array3)\n",
    "array4 = np.arange(25, 26, 0.1)\n",
    "print(array4)"
   ]
  },
  {
   "cell_type": "code",
   "execution_count": 5,
   "metadata": {},
   "outputs": [
    {
     "data": {
      "text/plain": [
       "3"
      ]
     },
     "execution_count": 5,
     "metadata": {},
     "output_type": "execute_result"
    }
   ],
   "source": [
    "array1[1]"
   ]
  },
  {
   "cell_type": "code",
   "execution_count": 10,
   "metadata": {},
   "outputs": [
    {
     "data": {
      "text/plain": [
       "array([0., 0., 0.])"
      ]
     },
     "execution_count": 10,
     "metadata": {},
     "output_type": "execute_result"
    }
   ],
   "source": [
    "array2[1,2:5]\n",
    "array2[1,]\n",
    "array2[1,2]"
   ]
  },
  {
   "cell_type": "code",
   "execution_count": 13,
   "metadata": {},
   "outputs": [
    {
     "data": {
      "text/plain": [
       "0     10.0\n",
       "1     10.1\n",
       "2     10.2\n",
       "3     10.3\n",
       "4     10.4\n",
       "5     10.5\n",
       "6     10.6\n",
       "7     10.7\n",
       "8     10.8\n",
       "9     10.9\n",
       "10    11.0\n",
       "11    11.1\n",
       "12    11.2\n",
       "13    11.3\n",
       "14    11.4\n",
       "15    11.5\n",
       "16    11.6\n",
       "17    11.7\n",
       "18    11.8\n",
       "19    11.9\n",
       "20    12.0\n",
       "21    12.1\n",
       "22    12.2\n",
       "23    12.3\n",
       "24    12.4\n",
       "25    12.5\n",
       "26    12.6\n",
       "27    12.7\n",
       "28    12.8\n",
       "29    12.9\n",
       "30    13.0\n",
       "31    13.1\n",
       "32    13.2\n",
       "33    13.3\n",
       "34    13.4\n",
       "35    13.5\n",
       "36    13.6\n",
       "37    13.7\n",
       "38    13.8\n",
       "39    13.9\n",
       "40    14.0\n",
       "41    14.1\n",
       "42    14.2\n",
       "43    14.3\n",
       "44    14.4\n",
       "45    14.5\n",
       "46    14.6\n",
       "47    14.7\n",
       "48    14.8\n",
       "49    14.9\n",
       "dtype: float64"
      ]
     },
     "execution_count": 13,
     "metadata": {},
     "output_type": "execute_result"
    }
   ],
   "source": [
    "series = pd.Series(np.arange(10, 15, 0.1))\n",
    "series"
   ]
  },
  {
   "cell_type": "code",
   "execution_count": 16,
   "metadata": {},
   "outputs": [
    {
     "data": {
      "text/html": [
       "<div>\n",
       "<style scoped>\n",
       "    .dataframe tbody tr th:only-of-type {\n",
       "        vertical-align: middle;\n",
       "    }\n",
       "\n",
       "    .dataframe tbody tr th {\n",
       "        vertical-align: top;\n",
       "    }\n",
       "\n",
       "    .dataframe thead th {\n",
       "        text-align: right;\n",
       "    }\n",
       "</style>\n",
       "<table border=\"1\" class=\"dataframe\">\n",
       "  <thead>\n",
       "    <tr style=\"text-align: right;\">\n",
       "      <th></th>\n",
       "      <th>Name</th>\n",
       "      <th>Time</th>\n",
       "    </tr>\n",
       "  </thead>\n",
       "  <tbody>\n",
       "    <tr>\n",
       "      <td>0</td>\n",
       "      <td>0.0</td>\n",
       "      <td>0.0</td>\n",
       "    </tr>\n",
       "    <tr>\n",
       "      <td>1</td>\n",
       "      <td>0.1</td>\n",
       "      <td>1.0</td>\n",
       "    </tr>\n",
       "    <tr>\n",
       "      <td>2</td>\n",
       "      <td>0.2</td>\n",
       "      <td>2.0</td>\n",
       "    </tr>\n",
       "    <tr>\n",
       "      <td>3</td>\n",
       "      <td>0.3</td>\n",
       "      <td>3.0</td>\n",
       "    </tr>\n",
       "    <tr>\n",
       "      <td>4</td>\n",
       "      <td>0.4</td>\n",
       "      <td>4.0</td>\n",
       "    </tr>\n",
       "  </tbody>\n",
       "</table>\n",
       "</div>"
      ],
      "text/plain": [
       "   Name  Time\n",
       "0   0.0   0.0\n",
       "1   0.1   1.0\n",
       "2   0.2   2.0\n",
       "3   0.3   3.0\n",
       "4   0.4   4.0"
      ]
     },
     "execution_count": 16,
     "metadata": {},
     "output_type": "execute_result"
    }
   ],
   "source": [
    "dataframe = pd.DataFrame({'Name':pd.Series(np.arange(0, 10, 0.1)), 'Time':pd.Series(np.arange(15))})\n",
    "dataframe.head()"
   ]
  },
  {
   "cell_type": "code",
   "execution_count": 17,
   "metadata": {},
   "outputs": [
    {
     "data": {
      "text/plain": [
       "array([[ 0. ,  0. ],\n",
       "       [ 0.1,  1. ],\n",
       "       [ 0.2,  2. ],\n",
       "       [ 0.3,  3. ],\n",
       "       [ 0.4,  4. ],\n",
       "       [ 0.5,  5. ],\n",
       "       [ 0.6,  6. ],\n",
       "       [ 0.7,  7. ],\n",
       "       [ 0.8,  8. ],\n",
       "       [ 0.9,  9. ],\n",
       "       [ 1. , 10. ],\n",
       "       [ 1.1, 11. ],\n",
       "       [ 1.2, 12. ],\n",
       "       [ 1.3, 13. ],\n",
       "       [ 1.4, 14. ],\n",
       "       [ 1.5,  nan],\n",
       "       [ 1.6,  nan],\n",
       "       [ 1.7,  nan],\n",
       "       [ 1.8,  nan],\n",
       "       [ 1.9,  nan],\n",
       "       [ 2. ,  nan],\n",
       "       [ 2.1,  nan],\n",
       "       [ 2.2,  nan],\n",
       "       [ 2.3,  nan],\n",
       "       [ 2.4,  nan],\n",
       "       [ 2.5,  nan],\n",
       "       [ 2.6,  nan],\n",
       "       [ 2.7,  nan],\n",
       "       [ 2.8,  nan],\n",
       "       [ 2.9,  nan],\n",
       "       [ 3. ,  nan],\n",
       "       [ 3.1,  nan],\n",
       "       [ 3.2,  nan],\n",
       "       [ 3.3,  nan],\n",
       "       [ 3.4,  nan],\n",
       "       [ 3.5,  nan],\n",
       "       [ 3.6,  nan],\n",
       "       [ 3.7,  nan],\n",
       "       [ 3.8,  nan],\n",
       "       [ 3.9,  nan],\n",
       "       [ 4. ,  nan],\n",
       "       [ 4.1,  nan],\n",
       "       [ 4.2,  nan],\n",
       "       [ 4.3,  nan],\n",
       "       [ 4.4,  nan],\n",
       "       [ 4.5,  nan],\n",
       "       [ 4.6,  nan],\n",
       "       [ 4.7,  nan],\n",
       "       [ 4.8,  nan],\n",
       "       [ 4.9,  nan],\n",
       "       [ 5. ,  nan],\n",
       "       [ 5.1,  nan],\n",
       "       [ 5.2,  nan],\n",
       "       [ 5.3,  nan],\n",
       "       [ 5.4,  nan],\n",
       "       [ 5.5,  nan],\n",
       "       [ 5.6,  nan],\n",
       "       [ 5.7,  nan],\n",
       "       [ 5.8,  nan],\n",
       "       [ 5.9,  nan],\n",
       "       [ 6. ,  nan],\n",
       "       [ 6.1,  nan],\n",
       "       [ 6.2,  nan],\n",
       "       [ 6.3,  nan],\n",
       "       [ 6.4,  nan],\n",
       "       [ 6.5,  nan],\n",
       "       [ 6.6,  nan],\n",
       "       [ 6.7,  nan],\n",
       "       [ 6.8,  nan],\n",
       "       [ 6.9,  nan],\n",
       "       [ 7. ,  nan],\n",
       "       [ 7.1,  nan],\n",
       "       [ 7.2,  nan],\n",
       "       [ 7.3,  nan],\n",
       "       [ 7.4,  nan],\n",
       "       [ 7.5,  nan],\n",
       "       [ 7.6,  nan],\n",
       "       [ 7.7,  nan],\n",
       "       [ 7.8,  nan],\n",
       "       [ 7.9,  nan],\n",
       "       [ 8. ,  nan],\n",
       "       [ 8.1,  nan],\n",
       "       [ 8.2,  nan],\n",
       "       [ 8.3,  nan],\n",
       "       [ 8.4,  nan],\n",
       "       [ 8.5,  nan],\n",
       "       [ 8.6,  nan],\n",
       "       [ 8.7,  nan],\n",
       "       [ 8.8,  nan],\n",
       "       [ 8.9,  nan],\n",
       "       [ 9. ,  nan],\n",
       "       [ 9.1,  nan],\n",
       "       [ 9.2,  nan],\n",
       "       [ 9.3,  nan],\n",
       "       [ 9.4,  nan],\n",
       "       [ 9.5,  nan],\n",
       "       [ 9.6,  nan],\n",
       "       [ 9.7,  nan],\n",
       "       [ 9.8,  nan],\n",
       "       [ 9.9,  nan]])"
      ]
     },
     "execution_count": 17,
     "metadata": {},
     "output_type": "execute_result"
    }
   ],
   "source": [
    "array_df = dataframe.to_numpy()\n",
    "array_df"
   ]
  },
  {
   "cell_type": "code",
   "execution_count": 28,
   "metadata": {},
   "outputs": [
    {
     "name": "stdout",
     "output_type": "stream",
     "text": [
      "Name    0.1\n",
      "Time    1.0\n",
      "Name: 1, dtype: float64\n"
     ]
    }
   ],
   "source": [
    "print(dataframe.iloc[1])"
   ]
  },
  {
   "cell_type": "code",
   "execution_count": 29,
   "metadata": {},
   "outputs": [
    {
     "data": {
      "text/html": [
       "<div>\n",
       "<style scoped>\n",
       "    .dataframe tbody tr th:only-of-type {\n",
       "        vertical-align: middle;\n",
       "    }\n",
       "\n",
       "    .dataframe tbody tr th {\n",
       "        vertical-align: top;\n",
       "    }\n",
       "\n",
       "    .dataframe thead th {\n",
       "        text-align: right;\n",
       "    }\n",
       "</style>\n",
       "<table border=\"1\" class=\"dataframe\">\n",
       "  <thead>\n",
       "    <tr style=\"text-align: right;\">\n",
       "      <th></th>\n",
       "      <th>Name</th>\n",
       "      <th>Time</th>\n",
       "    </tr>\n",
       "  </thead>\n",
       "  <tbody>\n",
       "    <tr>\n",
       "      <td>count</td>\n",
       "      <td>100.000000</td>\n",
       "      <td>15.000000</td>\n",
       "    </tr>\n",
       "    <tr>\n",
       "      <td>mean</td>\n",
       "      <td>4.950000</td>\n",
       "      <td>7.000000</td>\n",
       "    </tr>\n",
       "    <tr>\n",
       "      <td>std</td>\n",
       "      <td>2.901149</td>\n",
       "      <td>4.472136</td>\n",
       "    </tr>\n",
       "    <tr>\n",
       "      <td>min</td>\n",
       "      <td>0.000000</td>\n",
       "      <td>0.000000</td>\n",
       "    </tr>\n",
       "    <tr>\n",
       "      <td>25%</td>\n",
       "      <td>2.475000</td>\n",
       "      <td>3.500000</td>\n",
       "    </tr>\n",
       "    <tr>\n",
       "      <td>50%</td>\n",
       "      <td>4.950000</td>\n",
       "      <td>7.000000</td>\n",
       "    </tr>\n",
       "    <tr>\n",
       "      <td>75%</td>\n",
       "      <td>7.425000</td>\n",
       "      <td>10.500000</td>\n",
       "    </tr>\n",
       "    <tr>\n",
       "      <td>max</td>\n",
       "      <td>9.900000</td>\n",
       "      <td>14.000000</td>\n",
       "    </tr>\n",
       "  </tbody>\n",
       "</table>\n",
       "</div>"
      ],
      "text/plain": [
       "             Name       Time\n",
       "count  100.000000  15.000000\n",
       "mean     4.950000   7.000000\n",
       "std      2.901149   4.472136\n",
       "min      0.000000   0.000000\n",
       "25%      2.475000   3.500000\n",
       "50%      4.950000   7.000000\n",
       "75%      7.425000  10.500000\n",
       "max      9.900000  14.000000"
      ]
     },
     "execution_count": 29,
     "metadata": {},
     "output_type": "execute_result"
    }
   ],
   "source": [
    "dataframe.describe()"
   ]
  },
  {
   "cell_type": "code",
   "execution_count": null,
   "metadata": {},
   "outputs": [],
   "source": []
  }
 ],
 "metadata": {
  "kernelspec": {
   "display_name": "Python 3",
   "language": "python",
   "name": "python3"
  },
  "language_info": {
   "codemirror_mode": {
    "name": "ipython",
    "version": 3
   },
   "file_extension": ".py",
   "mimetype": "text/x-python",
   "name": "python",
   "nbconvert_exporter": "python",
   "pygments_lexer": "ipython3",
   "version": "3.7.4"
  }
 },
 "nbformat": 4,
 "nbformat_minor": 2
}
